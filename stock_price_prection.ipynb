{
  "nbformat": 4,
  "nbformat_minor": 0,
  "metadata": {
    "colab": {
      "name": "stock price prection.ipynb",
      "provenance": [],
      "authorship_tag": "ABX9TyMcuizFY7jEQgAsceib4rlK",
      "include_colab_link": true
    },
    "kernelspec": {
      "name": "python3",
      "display_name": "Python 3"
    },
    "language_info": {
      "name": "python"
    }
  },
  "cells": [
    {
      "cell_type": "markdown",
      "metadata": {
        "id": "view-in-github",
        "colab_type": "text"
      },
      "source": [
        "<a href=\"https://colab.research.google.com/github/riadhayachi/ARnet/blob/master/stock_price_prection.ipynb\" target=\"_parent\"><img src=\"https://colab.research.google.com/assets/colab-badge.svg\" alt=\"Open In Colab\"/></a>"
      ]
    },
    {
      "cell_type": "code",
      "metadata": {
        "id": "K-tEm61vPTVj"
      },
      "source": [
        "import numpy as np \n",
        "import pandas as pd \n",
        "import matplotlib.pyplot as plt \n",
        "from sklearn.preprocessing import MinMaxScaler\n",
        "from keras.models import Sequential\n",
        "from keras.layers import Dense,LSTM,Dropout, Activation"
      ],
      "execution_count": 17,
      "outputs": []
    },
    {
      "cell_type": "code",
      "metadata": {
        "colab": {
          "base_uri": "https://localhost:8080/"
        },
        "id": "aJNdVQBYQWGc",
        "outputId": "6437f377-6112-4415-e070-64ba041df807"
      },
      "source": [
        "data = pd.read_csv('trainData.csv')\n",
        "data.info()"
      ],
      "execution_count": 38,
      "outputs": [
        {
          "output_type": "stream",
          "name": "stdout",
          "text": [
            "<class 'pandas.core.frame.DataFrame'>\n",
            "RangeIndex: 1258 entries, 0 to 1257\n",
            "Data columns (total 6 columns):\n",
            " #   Column  Non-Null Count  Dtype  \n",
            "---  ------  --------------  -----  \n",
            " 0   Date    1258 non-null   object \n",
            " 1   Open    1258 non-null   float64\n",
            " 2   High    1258 non-null   float64\n",
            " 3   Low     1258 non-null   float64\n",
            " 4   Close   1258 non-null   object \n",
            " 5   Volume  1258 non-null   object \n",
            "dtypes: float64(3), object(3)\n",
            "memory usage: 59.1+ KB\n"
          ]
        }
      ]
    },
    {
      "cell_type": "code",
      "metadata": {
        "colab": {
          "base_uri": "https://localhost:8080/"
        },
        "id": "iG-18fQcQxf2",
        "outputId": "18039bd1-2975-4b6f-f003-668993176dad"
      },
      "source": [
        "data[\"Close\"]=pd.to_numeric(data.Close,errors='coerce') #turning the Close column to numeric\n",
        "data = data.dropna() #romeving the NA values\n",
        "trainData = data.iloc[:,4:5].values #selecting only the closing prices for training\n",
        "sc = MinMaxScaler(feature_range=(0,1))\n",
        "trainData = sc.fit_transform(trainData)\n",
        "trainData.shape"
      ],
      "execution_count": 39,
      "outputs": [
        {
          "output_type": "execute_result",
          "data": {
            "text/plain": [
              "(1149, 1)"
            ]
          },
          "metadata": {},
          "execution_count": 39
        }
      ]
    },
    {
      "cell_type": "code",
      "metadata": {
        "colab": {
          "base_uri": "https://localhost:8080/"
        },
        "id": "YPMajQ-iQ53I",
        "outputId": "5e425702-ee01-4aa0-8e11-254066d97684"
      },
      "source": [
        "X_train = []\n",
        "y_train = []\n",
        "\n",
        "for i in range (60,1149): #60 : timestep // 1149 : length of the data\n",
        "    X_train.append(trainData[i-60:i,0]) \n",
        "    y_train.append(trainData[i,0])\n",
        "\n",
        "X_train,y_train = np.array(X_train),np.array(y_train)\n",
        "X_train = np.reshape(X_train,(X_train.shape[0],X_train.shape[1],1)) #adding the batch_size axis\n",
        "X_train.shape"
      ],
      "execution_count": 40,
      "outputs": [
        {
          "output_type": "execute_result",
          "data": {
            "text/plain": [
              "(1089, 60, 1)"
            ]
          },
          "metadata": {},
          "execution_count": 40
        }
      ]
    },
    {
      "cell_type": "code",
      "metadata": {
        "colab": {
          "base_uri": "https://localhost:8080/"
        },
        "id": "zrSVUcH8RCm4",
        "outputId": "dac8ce3a-94dd-438a-aac8-76407e8d60b3"
      },
      "source": [
        "model = Sequential()\n",
        "model.add(LSTM(32, input_shape=(X_train.shape[1], 1), return_sequences = True))\n",
        "model.add(LSTM(16))\n",
        "model.add(Dense(1))\n",
        "model.add(Activation('linear'))\n",
        "model.compile(optimizer='adam',loss=\"mean_squared_error\")\n",
        "hist = model.fit(X_train, y_train, epochs = 100, batch_size = 32, verbose=2)"
      ],
      "execution_count": 43,
      "outputs": [
        {
          "output_type": "stream",
          "name": "stdout",
          "text": [
            "Epoch 1/100\n",
            "35/35 - 4s - loss: 0.0512\n",
            "Epoch 2/100\n",
            "35/35 - 1s - loss: 0.0080\n",
            "Epoch 3/100\n",
            "35/35 - 1s - loss: 0.0056\n",
            "Epoch 4/100\n",
            "35/35 - 1s - loss: 0.0050\n",
            "Epoch 5/100\n",
            "35/35 - 1s - loss: 0.0047\n",
            "Epoch 6/100\n",
            "35/35 - 1s - loss: 0.0043\n",
            "Epoch 7/100\n",
            "35/35 - 1s - loss: 0.0043\n",
            "Epoch 8/100\n",
            "35/35 - 1s - loss: 0.0038\n",
            "Epoch 9/100\n",
            "35/35 - 1s - loss: 0.0044\n",
            "Epoch 10/100\n",
            "35/35 - 1s - loss: 0.0039\n",
            "Epoch 11/100\n",
            "35/35 - 1s - loss: 0.0036\n",
            "Epoch 12/100\n",
            "35/35 - 1s - loss: 0.0038\n",
            "Epoch 13/100\n",
            "35/35 - 1s - loss: 0.0034\n",
            "Epoch 14/100\n",
            "35/35 - 1s - loss: 0.0034\n",
            "Epoch 15/100\n",
            "35/35 - 1s - loss: 0.0035\n",
            "Epoch 16/100\n",
            "35/35 - 1s - loss: 0.0032\n",
            "Epoch 17/100\n",
            "35/35 - 1s - loss: 0.0032\n",
            "Epoch 18/100\n",
            "35/35 - 1s - loss: 0.0032\n",
            "Epoch 19/100\n",
            "35/35 - 1s - loss: 0.0032\n",
            "Epoch 20/100\n",
            "35/35 - 1s - loss: 0.0030\n",
            "Epoch 21/100\n",
            "35/35 - 1s - loss: 0.0029\n",
            "Epoch 22/100\n",
            "35/35 - 1s - loss: 0.0032\n",
            "Epoch 23/100\n",
            "35/35 - 1s - loss: 0.0028\n",
            "Epoch 24/100\n",
            "35/35 - 1s - loss: 0.0028\n",
            "Epoch 25/100\n",
            "35/35 - 1s - loss: 0.0026\n",
            "Epoch 26/100\n",
            "35/35 - 1s - loss: 0.0027\n",
            "Epoch 27/100\n",
            "35/35 - 1s - loss: 0.0033\n",
            "Epoch 28/100\n",
            "35/35 - 1s - loss: 0.0027\n",
            "Epoch 29/100\n",
            "35/35 - 1s - loss: 0.0027\n",
            "Epoch 30/100\n",
            "35/35 - 1s - loss: 0.0027\n",
            "Epoch 31/100\n",
            "35/35 - 1s - loss: 0.0025\n",
            "Epoch 32/100\n",
            "35/35 - 1s - loss: 0.0023\n",
            "Epoch 33/100\n",
            "35/35 - 1s - loss: 0.0022\n",
            "Epoch 34/100\n",
            "35/35 - 1s - loss: 0.0022\n",
            "Epoch 35/100\n",
            "35/35 - 1s - loss: 0.0022\n",
            "Epoch 36/100\n",
            "35/35 - 1s - loss: 0.0022\n",
            "Epoch 37/100\n",
            "35/35 - 1s - loss: 0.0020\n",
            "Epoch 38/100\n",
            "35/35 - 1s - loss: 0.0020\n",
            "Epoch 39/100\n",
            "35/35 - 1s - loss: 0.0020\n",
            "Epoch 40/100\n",
            "35/35 - 1s - loss: 0.0020\n",
            "Epoch 41/100\n",
            "35/35 - 1s - loss: 0.0022\n",
            "Epoch 42/100\n",
            "35/35 - 1s - loss: 0.0021\n",
            "Epoch 43/100\n",
            "35/35 - 1s - loss: 0.0019\n",
            "Epoch 44/100\n",
            "35/35 - 1s - loss: 0.0021\n",
            "Epoch 45/100\n",
            "35/35 - 1s - loss: 0.0018\n",
            "Epoch 46/100\n",
            "35/35 - 1s - loss: 0.0018\n",
            "Epoch 47/100\n",
            "35/35 - 1s - loss: 0.0018\n",
            "Epoch 48/100\n",
            "35/35 - 1s - loss: 0.0017\n",
            "Epoch 49/100\n",
            "35/35 - 1s - loss: 0.0022\n",
            "Epoch 50/100\n",
            "35/35 - 1s - loss: 0.0017\n",
            "Epoch 51/100\n",
            "35/35 - 1s - loss: 0.0016\n",
            "Epoch 52/100\n",
            "35/35 - 1s - loss: 0.0016\n",
            "Epoch 53/100\n",
            "35/35 - 1s - loss: 0.0015\n",
            "Epoch 54/100\n",
            "35/35 - 1s - loss: 0.0017\n",
            "Epoch 55/100\n",
            "35/35 - 1s - loss: 0.0015\n",
            "Epoch 56/100\n",
            "35/35 - 1s - loss: 0.0016\n",
            "Epoch 57/100\n",
            "35/35 - 1s - loss: 0.0016\n",
            "Epoch 58/100\n",
            "35/35 - 1s - loss: 0.0015\n",
            "Epoch 59/100\n",
            "35/35 - 1s - loss: 0.0016\n",
            "Epoch 60/100\n",
            "35/35 - 1s - loss: 0.0014\n",
            "Epoch 61/100\n",
            "35/35 - 1s - loss: 0.0014\n",
            "Epoch 62/100\n",
            "35/35 - 1s - loss: 0.0014\n",
            "Epoch 63/100\n",
            "35/35 - 1s - loss: 0.0015\n",
            "Epoch 64/100\n",
            "35/35 - 1s - loss: 0.0014\n",
            "Epoch 65/100\n",
            "35/35 - 1s - loss: 0.0013\n",
            "Epoch 66/100\n",
            "35/35 - 1s - loss: 0.0013\n",
            "Epoch 67/100\n",
            "35/35 - 1s - loss: 0.0014\n",
            "Epoch 68/100\n",
            "35/35 - 1s - loss: 0.0015\n",
            "Epoch 69/100\n",
            "35/35 - 1s - loss: 0.0015\n",
            "Epoch 70/100\n",
            "35/35 - 1s - loss: 0.0013\n",
            "Epoch 71/100\n",
            "35/35 - 1s - loss: 0.0013\n",
            "Epoch 72/100\n",
            "35/35 - 1s - loss: 0.0013\n",
            "Epoch 73/100\n",
            "35/35 - 1s - loss: 0.0014\n",
            "Epoch 74/100\n",
            "35/35 - 1s - loss: 0.0013\n",
            "Epoch 75/100\n",
            "35/35 - 1s - loss: 0.0012\n",
            "Epoch 76/100\n",
            "35/35 - 1s - loss: 0.0013\n",
            "Epoch 77/100\n",
            "35/35 - 1s - loss: 0.0012\n",
            "Epoch 78/100\n",
            "35/35 - 1s - loss: 0.0014\n",
            "Epoch 79/100\n",
            "35/35 - 1s - loss: 0.0012\n",
            "Epoch 80/100\n",
            "35/35 - 1s - loss: 0.0012\n",
            "Epoch 81/100\n",
            "35/35 - 1s - loss: 0.0012\n",
            "Epoch 82/100\n",
            "35/35 - 1s - loss: 0.0013\n",
            "Epoch 83/100\n",
            "35/35 - 1s - loss: 0.0013\n",
            "Epoch 84/100\n",
            "35/35 - 1s - loss: 0.0013\n",
            "Epoch 85/100\n",
            "35/35 - 1s - loss: 0.0012\n",
            "Epoch 86/100\n",
            "35/35 - 1s - loss: 0.0011\n",
            "Epoch 87/100\n",
            "35/35 - 1s - loss: 0.0013\n",
            "Epoch 88/100\n",
            "35/35 - 1s - loss: 0.0011\n",
            "Epoch 89/100\n",
            "35/35 - 1s - loss: 0.0012\n",
            "Epoch 90/100\n",
            "35/35 - 1s - loss: 0.0015\n",
            "Epoch 91/100\n",
            "35/35 - 1s - loss: 0.0012\n",
            "Epoch 92/100\n",
            "35/35 - 1s - loss: 0.0011\n",
            "Epoch 93/100\n",
            "35/35 - 1s - loss: 0.0011\n",
            "Epoch 94/100\n",
            "35/35 - 1s - loss: 0.0012\n",
            "Epoch 95/100\n",
            "35/35 - 1s - loss: 0.0013\n",
            "Epoch 96/100\n",
            "35/35 - 1s - loss: 0.0012\n",
            "Epoch 97/100\n",
            "35/35 - 1s - loss: 0.0012\n",
            "Epoch 98/100\n",
            "35/35 - 1s - loss: 0.0011\n",
            "Epoch 99/100\n",
            "35/35 - 1s - loss: 0.0011\n",
            "Epoch 100/100\n",
            "35/35 - 1s - loss: 0.0012\n"
          ]
        }
      ]
    },
    {
      "cell_type": "code",
      "metadata": {
        "colab": {
          "base_uri": "https://localhost:8080/",
          "height": 295
        },
        "id": "CypL37NgR3kl",
        "outputId": "a1545ed6-0ca5-4eac-8be5-0db650169311"
      },
      "source": [
        "plt.plot(hist.history['loss'])\n",
        "plt.title('model loss')\n",
        "plt.ylabel('loss')\n",
        "plt.xlabel('epoch')\n",
        "plt.legend(['train'], loc='upper left')\n",
        "plt.show()"
      ],
      "execution_count": 44,
      "outputs": [
        {
          "output_type": "display_data",
          "data": {
            "image/png": "[encoded data removed]",
            "text/plain": [
              "<Figure size 432x288 with 1 Axes>"
            ]
          },
          "metadata": {
            "needs_background": "light"
          }
        }
      ]
    },
    {
      "cell_type": "code",
      "metadata": {
        "colab": {
          "base_uri": "https://localhost:8080/"
        },
        "id": "HHIoLMofSBL8",
        "outputId": "acd0fe59-7692-421e-9e55-11b153d1e074"
      },
      "source": [
        "testData = pd.read_csv('testdata.csv') #importing the test data\n",
        "testData[\"Close\"]=pd.to_numeric(testData.Close,errors='coerce') #turning the close column to numerical type\n",
        "testData = testData.dropna() #droping the NA values\n",
        "testData = testData.iloc[:,4:5] #selecting the closing prices for testing\n",
        "y_test = testData.iloc[60:,0:].values #selecting the labels \n",
        "#input array for the model\n",
        "inputClosing = testData.iloc[:,0:].values \n",
        "inputClosing_scaled = sc.transform(inputClosing)\n",
        "inputClosing_scaled.shape\n",
        "X_test = []\n",
        "length = len(testData)\n",
        "timestep = 60\n",
        "for i in range(timestep,length): #doing the same preivous preprocessing \n",
        "    X_test.append(inputClosing_scaled[i-timestep:i,0])\n",
        "X_test = np.array(X_test)\n",
        "X_test = np.reshape(X_test,(X_test.shape[0],X_test.shape[1],1))\n",
        "X_test.shape"
      ],
      "execution_count": 45,
      "outputs": [
        {
          "output_type": "execute_result",
          "data": {
            "text/plain": [
              "(192, 60, 1)"
            ]
          },
          "metadata": {},
          "execution_count": 45
        }
      ]
    },
    {
      "cell_type": "code",
      "metadata": {
        "id": "gEIBRaMMSeAt"
      },
      "source": [
        "#predicting the new values\n",
        "y_pred = model.predict(X_test) \n",
        "#inversing the scaling transformation for ploting\n",
        "predicted_price = sc.inverse_transform(y_pred) "
      ],
      "execution_count": 46,
      "outputs": []
    },
    {
      "cell_type": "code",
      "metadata": {
        "colab": {
          "base_uri": "https://localhost:8080/",
          "height": 295
        },
        "id": "FSQjraKVSqT5",
        "outputId": "9a6cf636-aecc-4188-891c-c639d70643d1"
      },
      "source": [
        "plt.plot(y_test, color = 'blue', label = 'Actual Stock Price')\n",
        "plt.plot(predicted_price, color = 'red', label = 'Predicted Stock Price')\n",
        "plt.title('stock price prediction')\n",
        "plt.xlabel('Time')\n",
        "plt.ylabel('Stock Price')\n",
        "plt.legend()\n",
        "plt.show()"
      ],
      "execution_count": 47,
      "outputs": [
        {
          "output_type": "display_data",
          "data": {
            "image/png": "[encoded data removed]",
            "text/plain": [
              "<Figure size 432x288 with 1 Axes>"
            ]
          },
          "metadata": {
            "needs_background": "light"
          }
        }
      ]
    }
  ]
}